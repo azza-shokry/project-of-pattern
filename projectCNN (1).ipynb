{
  "nbformat": 4,
  "nbformat_minor": 0,
  "metadata": {
    "kernelspec": {
      "display_name": "Python 3",
      "language": "python",
      "name": "python3"
    },
    "language_info": {
      "codemirror_mode": {
        "name": "ipython",
        "version": 3
      },
      "file_extension": ".py",
      "mimetype": "text/x-python",
      "name": "python",
      "nbconvert_exporter": "python",
      "pygments_lexer": "ipython3",
      "version": "3.7.4"
    },
    "colab": {
      "name": "projectCNN.ipynb",
      "provenance": []
    }
  },
  "cells": [
    {
      "cell_type": "code",
      "metadata": {
        "id": "XrNiQvtZWoIZ",
        "colab_type": "code",
        "colab": {
          "base_uri": "https://localhost:8080/",
          "height": 122
        },
        "outputId": "fccc4df3-19f3-42b0-abbb-00fd8a87535f"
      },
      "source": [
        "from google.colab import drive\n",
        "drive.mount(\"/content/drive\", force_remount=True)"
      ],
      "execution_count": 7,
      "outputs": [
        {
          "output_type": "stream",
          "text": [
            "Go to this URL in a browser: https://accounts.google.com/o/oauth2/auth?client_id=947318989803-6bn6qk8qdgf4n4g3pfee6491hc0brc4i.apps.googleusercontent.com&redirect_uri=urn%3aietf%3awg%3aoauth%3a2.0%3aoob&response_type=code&scope=email%20https%3a%2f%2fwww.googleapis.com%2fauth%2fdocs.test%20https%3a%2f%2fwww.googleapis.com%2fauth%2fdrive%20https%3a%2f%2fwww.googleapis.com%2fauth%2fdrive.photos.readonly%20https%3a%2f%2fwww.googleapis.com%2fauth%2fpeopleapi.readonly\n",
            "\n",
            "Enter your authorization code:\n",
            "··········\n",
            "Mounted at /content/drive\n"
          ],
          "name": "stdout"
        }
      ]
    },
    {
      "cell_type": "code",
      "metadata": {
        "id": "FudG3PAIW2mt",
        "colab_type": "code",
        "colab": {}
      },
      "source": [
        "train_path = '/content/drive/My Drive/Img'"
      ],
      "execution_count": 0,
      "outputs": []
    },
    {
      "cell_type": "code",
      "metadata": {
        "id": "-q5u6lsaQ8il",
        "colab_type": "code",
        "colab": {}
      },
      "source": [
        "#first we import needed libiraries\n",
        "import tensorflow as tf\n",
        "from tensorflow.keras.models import Sequential\n",
        "from tensorflow.keras.layers import Dense, Dropout, Activation, Flatten\n",
        "from tensorflow.keras.layers import Conv2D, MaxPooling2D\n",
        "from tensorflow.keras.callbacks import TensorBoard\n",
        "from tensorflow.keras.utils import to_categorical\n",
        "import matplotlib.pyplot as plt\n",
        "import matplotlib.image as mpimg\n",
        "import pandas as pd \n",
        "import numpy as np\n",
        "import os \n",
        "import glob2 as gb\n",
        "import cv2\n",
        "import scipy.optimize as opt\n",
        "import sys\n",
        "from scipy.io import loadmat\n",
        "from sklearn.model_selection import train_test_split\n",
        "from sklearn.metrics import confusion_matrix\n",
        "import itertools\n",
        "import seaborn as sns\n",
        "%matplotlib inline\n",
        "np.random.seed(2)\n",
        "from keras.utils.np_utils import to_categorical # convert to one-hot-encoding\n",
        "from keras.models import Sequential\n",
        "from keras.layers import Dense, Dropout, Flatten, Conv2D, MaxPool2D\n",
        "from keras.optimizers import RMSprop\n",
        "from keras.preprocessing.image import ImageDataGenerator\n",
        "from keras.callbacks import ReduceLROnPlateau\n",
        "\n",
        "\n",
        "sns.set(style='white', context='notebook', palette='deep')\n",
        "\n",
        "#code characters    \n",
        "code = {'0':0, '1':1, '2':2, '3':3, '4':4,\n",
        "               '5':5, '6':6, '7':7, '8':8, '9':9,\n",
        "               'A':10, 'B':11, 'C':12, 'D':13, 'E':14, 'F':15, 'G':16,\n",
        "               'H':17, 'I':18, 'J':19, 'K':20, 'L':21, 'M':22, 'N':23,\n",
        "               'O':24, 'P':25, 'Q':26, 'R':27, 'S':28, 'T':29, 'U':30,\n",
        "               'V':31, 'W':32, 'X':33, 'Y':34, 'Z':35, 'As':36, 'Bs':37, \n",
        "               'Cs':38, 'Ds':39, 'Es':40, 'Fs':41, 'Gs':42, 'Hs':43, 'Is':44, \n",
        "               'Js':45, 'Ks':46, 'Ls':47, 'Ms':48, 'Ns':49, 'Os':50, 'Ps':51,\n",
        "               'Qs':52, 'Rs':53, 'Ss':54, 'Ts':55, 'Us':56, 'Vs':57, 'Ws':58, \n",
        "               'Xs':59, 'Ys':60, 'Zs':61,}"
      ],
      "execution_count": 0,
      "outputs": []
    },
    {
      "cell_type": "code",
      "metadata": {
        "id": "viP699NgQ8ix",
        "colab_type": "code",
        "colab": {
          "base_uri": "https://localhost:8080/",
          "height": 1000
        },
        "outputId": "3d5a1f2b-dfaf-4d38-cefa-6893c2e228ff"
      },
      "source": [
        "#read dataset from specific file in your device\n",
        "train_path = '/content/drive/My Drive/Img/'\n",
        "dataset_path = train_path\n",
        "\n",
        "\n",
        "\n",
        "\n",
        "#create X and Y\n",
        "x=[]\n",
        "y=[]\n",
        "\n",
        "#upload data and resize it\n",
        "for folder in os.listdir(dataset_path):\n",
        "    files = gb.glob(pathname=str(dataset_path)+folder+'/*png')\n",
        "    print(f'for dataset , found {len(files)} in folder {folder}')\n",
        "    for file in files :\n",
        "        image = cv2.imread(file)\n",
        "        image_array = cv2.resize(image,(28,28))\n",
        "        x.append(list(image_array))\n",
        "        y.append(code[folder])"
      ],
      "execution_count": 23,
      "outputs": [
        {
          "output_type": "stream",
          "text": [
            "for dataset , found 55 in folder 1\n",
            "for dataset , found 55 in folder 2\n",
            "for dataset , found 55 in folder 9\n",
            "for dataset , found 55 in folder 7\n",
            "for dataset , found 55 in folder 8\n",
            "for dataset , found 55 in folder 3\n",
            "for dataset , found 55 in folder 6\n",
            "for dataset , found 55 in folder 4\n",
            "for dataset , found 55 in folder 5\n",
            "for dataset , found 55 in folder 0\n",
            "for dataset , found 55 in folder A\n",
            "for dataset , found 55 in folder Es\n",
            "for dataset , found 55 in folder As\n",
            "for dataset , found 55 in folder Cs\n",
            "for dataset , found 55 in folder Bs\n",
            "for dataset , found 55 in folder E\n",
            "for dataset , found 55 in folder C\n",
            "for dataset , found 55 in folder B\n",
            "for dataset , found 55 in folder D\n",
            "for dataset , found 55 in folder Ds\n",
            "for dataset , found 55 in folder H\n",
            "for dataset , found 55 in folder F\n",
            "for dataset , found 55 in folder Hs\n",
            "for dataset , found 55 in folder G\n",
            "for dataset , found 55 in folder I\n",
            "for dataset , found 55 in folder Js\n",
            "for dataset , found 55 in folder Gs\n",
            "for dataset , found 55 in folder Is\n",
            "for dataset , found 55 in folder Fs\n",
            "for dataset , found 55 in folder J\n",
            "for dataset , found 55 in folder M\n",
            "for dataset , found 55 in folder Ns\n",
            "for dataset , found 55 in folder O\n",
            "for dataset , found 55 in folder Os\n",
            "for dataset , found 55 in folder K\n",
            "for dataset , found 55 in folder Ks\n",
            "for dataset , found 55 in folder L\n",
            "for dataset , found 55 in folder Ls\n",
            "for dataset , found 55 in folder Ms\n",
            "for dataset , found 55 in folder N\n",
            "for dataset , found 55 in folder T\n",
            "for dataset , found 55 in folder Rs\n",
            "for dataset , found 55 in folder P\n",
            "for dataset , found 55 in folder Ps\n",
            "for dataset , found 55 in folder R\n",
            "for dataset , found 55 in folder Ts\n",
            "for dataset , found 55 in folder Q\n",
            "for dataset , found 55 in folder Qs\n",
            "for dataset , found 55 in folder Ss\n",
            "for dataset , found 55 in folder S\n",
            "for dataset , found 55 in folder Us\n",
            "for dataset , found 55 in folder Vs\n",
            "for dataset , found 55 in folder Y\n",
            "for dataset , found 55 in folder Ys\n",
            "for dataset , found 55 in folder Xs\n",
            "for dataset , found 55 in folder W\n",
            "for dataset , found 55 in folder V\n",
            "for dataset , found 55 in folder U\n",
            "for dataset , found 55 in folder Ws\n",
            "for dataset , found 55 in folder X\n",
            "for dataset , found 55 in folder Z\n",
            "for dataset , found 55 in folder Zs\n"
          ],
          "name": "stdout"
        }
      ]
    },
    {
      "cell_type": "code",
      "metadata": {
        "id": "15nCYYHMQ8i4",
        "colab_type": "code",
        "colab": {
          "base_uri": "https://localhost:8080/",
          "height": 285
        },
        "outputId": "437ca611-bf96-4820-cd8c-7f5c85bcb6d4"
      },
      "source": [
        "plt.imshow (x [55])\n",
        "print (y [55])\n"
      ],
      "execution_count": 24,
      "outputs": [
        {
          "output_type": "stream",
          "text": [
            "2\n"
          ],
          "name": "stdout"
        },
        {
          "output_type": "display_data",
          "data": {
            "image/png": "[encoded data removed]",
            "text/plain": [
              "<Figure size 432x288 with 1 Axes>"
            ]
          },
          "metadata": {
            "tags": []
          }
        }
      ]
    },
    {
      "cell_type": "code",
      "metadata": {
        "id": "DrdND89YQ8i9",
        "colab_type": "code",
        "colab": {
          "base_uri": "https://localhost:8080/",
          "height": 1000
        },
        "outputId": "f6427423-e4b2-41d6-d52b-5088852407e3"
      },
      "source": [
        "size = []\n",
        "for folder in os.listdir(dataset_path):\n",
        "    files = gb.glob(pathname=str(dataset_path) + folder + '/*png')\n",
        "    print(f'for dataset , found {len(files)} in folder {folder}')\n",
        "    for file in files :\n",
        "        image = plt.imread(file)\n",
        "        size.append(image.shape)\n",
        "pd.Series(size).value_counts()"
      ],
      "execution_count": 25,
      "outputs": [
        {
          "output_type": "stream",
          "text": [
            "for dataset , found 55 in folder 1\n",
            "for dataset , found 55 in folder 2\n",
            "for dataset , found 55 in folder 9\n",
            "for dataset , found 55 in folder 7\n",
            "for dataset , found 55 in folder 8\n",
            "for dataset , found 55 in folder 3\n",
            "for dataset , found 55 in folder 6\n",
            "for dataset , found 55 in folder 4\n",
            "for dataset , found 55 in folder 5\n",
            "for dataset , found 55 in folder 0\n",
            "for dataset , found 55 in folder A\n",
            "for dataset , found 55 in folder Es\n",
            "for dataset , found 55 in folder As\n",
            "for dataset , found 55 in folder Cs\n",
            "for dataset , found 55 in folder Bs\n",
            "for dataset , found 55 in folder E\n",
            "for dataset , found 55 in folder C\n",
            "for dataset , found 55 in folder B\n",
            "for dataset , found 55 in folder D\n",
            "for dataset , found 55 in folder Ds\n",
            "for dataset , found 55 in folder H\n",
            "for dataset , found 55 in folder F\n",
            "for dataset , found 55 in folder Hs\n",
            "for dataset , found 55 in folder G\n",
            "for dataset , found 55 in folder I\n",
            "for dataset , found 55 in folder Js\n",
            "for dataset , found 55 in folder Gs\n",
            "for dataset , found 55 in folder Is\n",
            "for dataset , found 55 in folder Fs\n",
            "for dataset , found 55 in folder J\n",
            "for dataset , found 55 in folder M\n",
            "for dataset , found 55 in folder Ns\n",
            "for dataset , found 55 in folder O\n",
            "for dataset , found 55 in folder Os\n",
            "for dataset , found 55 in folder K\n",
            "for dataset , found 55 in folder Ks\n",
            "for dataset , found 55 in folder L\n",
            "for dataset , found 55 in folder Ls\n",
            "for dataset , found 55 in folder Ms\n",
            "for dataset , found 55 in folder N\n",
            "for dataset , found 55 in folder T\n",
            "for dataset , found 55 in folder Rs\n",
            "for dataset , found 55 in folder P\n",
            "for dataset , found 55 in folder Ps\n",
            "for dataset , found 55 in folder R\n",
            "for dataset , found 55 in folder Ts\n",
            "for dataset , found 55 in folder Q\n",
            "for dataset , found 55 in folder Qs\n",
            "for dataset , found 55 in folder Ss\n",
            "for dataset , found 55 in folder S\n",
            "for dataset , found 55 in folder Us\n",
            "for dataset , found 55 in folder Vs\n",
            "for dataset , found 55 in folder Y\n",
            "for dataset , found 55 in folder Ys\n",
            "for dataset , found 55 in folder Xs\n",
            "for dataset , found 55 in folder W\n",
            "for dataset , found 55 in folder V\n",
            "for dataset , found 55 in folder U\n",
            "for dataset , found 55 in folder Ws\n",
            "for dataset , found 55 in folder X\n",
            "for dataset , found 55 in folder Z\n",
            "for dataset , found 55 in folder Zs\n"
          ],
          "name": "stdout"
        },
        {
          "output_type": "execute_result",
          "data": {
            "text/plain": [
              "(900, 1200, 3)    3410\n",
              "dtype: int64"
            ]
          },
          "metadata": {
            "tags": []
          },
          "execution_count": 25
        }
      ]
    },
    {
      "cell_type": "code",
      "metadata": {
        "scrolled": true,
        "id": "fggiSJ51Q8jD",
        "colab_type": "code",
        "colab": {
          "base_uri": "https://localhost:8080/",
          "height": 1000
        },
        "outputId": "5250eb82-6f08-4ae9-e786-23116a1474f1"
      },
      "source": [
        "# Split the train and the validation set for the fitting\n",
        "x_train , x_test , y_train , y_test = train_test_split(x, y, test_size = 0.1,random_state = 2 )\n",
        "\n",
        "x_train = np.asarray(x_train)\n",
        "x_test  = np.asarray(x_test)\n",
        "y_train = np.asarray(y_train)\n",
        "y_test  = np.asarray(y_test)\n",
        "\n",
        "\n",
        "\n",
        "plt.imshow(x_train[1])\n",
        "print(x_train[0].shape)\n",
        "# print('shape of x_train :', x_train.shape())\n",
        "#print('shape of x_train[5] : ', x_train[5].shape)\n",
        "#print('any image contain : x_train[0] \\n',x_train[0])\n",
        "#print('x_train shape :' , x_train.shape)\n",
        "#print('y_train shape :' , y_train.shape)\n",
        "\n",
        "#print(type(y_train))\n",
        "\n",
        "# next step should be normlize image \n",
        "x_train , x_test = x_train/255.0 , x_test/255.0\n",
        "print('sample x_train[0] : \\n ' ,x_train[0])"
      ],
      "execution_count": 26,
      "outputs": [
        {
          "output_type": "stream",
          "text": [
            "(28, 28, 3)\n",
            "sample x_train[0] : \n",
            "  [[[1. 1. 1.]\n",
            "  [1. 1. 1.]\n",
            "  [1. 1. 1.]\n",
            "  ...\n",
            "  [1. 1. 1.]\n",
            "  [1. 1. 1.]\n",
            "  [1. 1. 1.]]\n",
            "\n",
            " [[1. 1. 1.]\n",
            "  [1. 1. 1.]\n",
            "  [1. 1. 1.]\n",
            "  ...\n",
            "  [1. 1. 1.]\n",
            "  [1. 1. 1.]\n",
            "  [1. 1. 1.]]\n",
            "\n",
            " [[1. 1. 1.]\n",
            "  [1. 1. 1.]\n",
            "  [1. 1. 1.]\n",
            "  ...\n",
            "  [1. 1. 1.]\n",
            "  [1. 1. 1.]\n",
            "  [1. 1. 1.]]\n",
            "\n",
            " ...\n",
            "\n",
            " [[1. 1. 1.]\n",
            "  [1. 1. 1.]\n",
            "  [1. 1. 1.]\n",
            "  ...\n",
            "  [1. 1. 1.]\n",
            "  [1. 1. 1.]\n",
            "  [1. 1. 1.]]\n",
            "\n",
            " [[1. 1. 1.]\n",
            "  [1. 1. 1.]\n",
            "  [1. 1. 1.]\n",
            "  ...\n",
            "  [1. 1. 1.]\n",
            "  [1. 1. 1.]\n",
            "  [1. 1. 1.]]\n",
            "\n",
            " [[1. 1. 1.]\n",
            "  [1. 1. 1.]\n",
            "  [1. 1. 1.]\n",
            "  ...\n",
            "  [1. 1. 1.]\n",
            "  [1. 1. 1.]\n",
            "  [1. 1. 1.]]]\n"
          ],
          "name": "stdout"
        },
        {
          "output_type": "display_data",
          "data": {
            "image/png": "[encoded data removed]",
            "text/plain": [
              "<Figure size 432x288 with 1 Axes>"
            ]
          },
          "metadata": {
            "tags": []
          }
        }
      ]
    },
    {
      "cell_type": "code",
      "metadata": {
        "id": "8SG6NgwpQ8jJ",
        "colab_type": "code",
        "colab": {
          "base_uri": "https://localhost:8080/",
          "height": 85
        },
        "outputId": "d12f6e92-9794-471d-de41-d1846cb80ef6"
      },
      "source": [
        "# in the same step convert ouput by using one hot encoding \n",
        "y_train = to_categorical(y_train)\n",
        "y_test  = to_categorical(y_test)\n",
        "y_train[0]"
      ],
      "execution_count": 27,
      "outputs": [
        {
          "output_type": "execute_result",
          "data": {
            "text/plain": [
              "array([0., 0., 0., 0., 0., 0., 0., 0., 0., 0., 0., 0., 0., 0., 0., 0., 0.,\n",
              "       0., 0., 0., 0., 0., 0., 0., 0., 0., 0., 0., 0., 0., 0., 1., 0., 0.,\n",
              "       0., 0., 0., 0., 0., 0., 0., 0., 0., 0., 0., 0., 0., 0., 0., 0., 0.,\n",
              "       0., 0., 0., 0., 0., 0., 0., 0., 0., 0., 0.], dtype=float32)"
            ]
          },
          "metadata": {
            "tags": []
          },
          "execution_count": 27
        }
      ]
    },
    {
      "cell_type": "code",
      "metadata": {
        "id": "U6j9nyHJQ8jS",
        "colab_type": "code",
        "colab": {}
      },
      "source": [
        "# function get code\n",
        "def getcode(n):\n",
        "    for x,y in code.items():\n",
        "        if n ==y :\n",
        "            return x\n",
        "\n"
      ],
      "execution_count": 0,
      "outputs": []
    },
    {
      "cell_type": "code",
      "metadata": {
        "id": "ncSXMMYZQ8jc",
        "colab_type": "code",
        "colab": {}
      },
      "source": [
        "model = Sequential()\n",
        "\n",
        "model.add(Conv2D(filters = 32, kernel_size = (5,5),padding = 'Same', activation ='relu'))\n",
        "model.add(Conv2D(filters = 32, kernel_size = (5,5),padding = 'Same', activation ='relu'))\n",
        "model.add(MaxPool2D(pool_size=(2,2)))\n",
        "model.add(Dropout(0.25))\n",
        "\n",
        "model.add(Conv2D(filters = 64, kernel_size = (3,3),padding = 'Same', activation ='relu'))\n",
        "model.add(Conv2D(filters = 64, kernel_size = (3,3),padding = 'Same', activation ='relu'))\n",
        "model.add(MaxPool2D(pool_size=(2,2), strides=(2,2)))\n",
        "model.add(Dropout(0.25))\n",
        "\n",
        "model.add(Flatten())\n",
        "\n",
        "model.add(Dense(256, activation = \"relu\"))\n",
        "model.add(Dropout(0.5))\n",
        "\n",
        "model.add(Dense(62, activation = \"softmax\"))"
      ],
      "execution_count": 0,
      "outputs": []
    },
    {
      "cell_type": "code",
      "metadata": {
        "id": "-jzHDk0RQ8jj",
        "colab_type": "code",
        "colab": {}
      },
      "source": [
        "#optimizer\n",
        "optimizer = RMSprop(lr=0.001, rho=0.9, epsilon=1e-08, decay=0.0)"
      ],
      "execution_count": 0,
      "outputs": []
    },
    {
      "cell_type": "code",
      "metadata": {
        "id": "rNkgnnSIQ8jp",
        "colab_type": "code",
        "colab": {}
      },
      "source": [
        "#model compilation\n",
        "model.compile(optimizer = optimizer , loss = \"categorical_crossentropy\", metrics=[\"accuracy\"])"
      ],
      "execution_count": 0,
      "outputs": []
    },
    {
      "cell_type": "code",
      "metadata": {
        "id": "PMWIEhuIQ8kB",
        "colab_type": "code",
        "colab": {}
      },
      "source": [
        "epochs = 30 # more epoches = more accurace\n",
        "batch_size = 30"
      ],
      "execution_count": 0,
      "outputs": []
    },
    {
      "cell_type": "code",
      "metadata": {
        "id": "RAb0GRtuQ8kJ",
        "colab_type": "code",
        "colab": {
          "base_uri": "https://localhost:8080/",
          "height": 1000
        },
        "outputId": "e9eb6317-cc73-4f23-b8d4-82851798c2c3"
      },
      "source": [
        "history = model.fit(x_train, y_train, batch_size = batch_size, epochs = epochs, \n",
        "          validation_data = (x_test, y_test), verbose = 2)"
      ],
      "execution_count": 33,
      "outputs": [
        {
          "output_type": "stream",
          "text": [
            "Train on 3069 samples, validate on 341 samples\n",
            "Epoch 1/30\n",
            " - 21s - loss: 4.1338 - accuracy: 0.0117 - val_loss: 4.1278 - val_accuracy: 0.0059\n",
            "Epoch 2/30\n",
            " - 21s - loss: 3.8861 - accuracy: 0.0642 - val_loss: 3.3347 - val_accuracy: 0.1672\n",
            "Epoch 3/30\n",
            " - 21s - loss: 3.1387 - accuracy: 0.1864 - val_loss: 2.4750 - val_accuracy: 0.3842\n",
            "Epoch 4/30\n",
            " - 21s - loss: 2.4995 - accuracy: 0.3161 - val_loss: 2.1378 - val_accuracy: 0.4399\n",
            "Epoch 5/30\n",
            " - 21s - loss: 2.0184 - accuracy: 0.4405 - val_loss: 1.5735 - val_accuracy: 0.5748\n",
            "Epoch 6/30\n",
            " - 21s - loss: 1.6682 - accuracy: 0.5282 - val_loss: 1.3045 - val_accuracy: 0.6716\n",
            "Epoch 7/30\n",
            " - 21s - loss: 1.4052 - accuracy: 0.5862 - val_loss: 1.2133 - val_accuracy: 0.6862\n",
            "Epoch 8/30\n",
            " - 21s - loss: 1.2347 - accuracy: 0.6367 - val_loss: 1.1190 - val_accuracy: 0.7126\n",
            "Epoch 9/30\n",
            " - 21s - loss: 1.1100 - accuracy: 0.6562 - val_loss: 1.0210 - val_accuracy: 0.7214\n",
            "Epoch 10/30\n",
            " - 21s - loss: 0.9700 - accuracy: 0.6944 - val_loss: 1.0269 - val_accuracy: 0.7067\n",
            "Epoch 11/30\n",
            " - 21s - loss: 0.8625 - accuracy: 0.7309 - val_loss: 0.9283 - val_accuracy: 0.7243\n",
            "Epoch 12/30\n",
            " - 21s - loss: 0.8061 - accuracy: 0.7367 - val_loss: 0.9622 - val_accuracy: 0.7419\n",
            "Epoch 13/30\n",
            " - 21s - loss: 0.7548 - accuracy: 0.7625 - val_loss: 1.0616 - val_accuracy: 0.7097\n",
            "Epoch 14/30\n",
            " - 21s - loss: 0.7134 - accuracy: 0.7703 - val_loss: 0.9499 - val_accuracy: 0.7331\n",
            "Epoch 15/30\n",
            " - 21s - loss: 0.6204 - accuracy: 0.7924 - val_loss: 0.8157 - val_accuracy: 0.8006\n",
            "Epoch 16/30\n",
            " - 21s - loss: 0.6074 - accuracy: 0.7954 - val_loss: 1.0210 - val_accuracy: 0.7390\n",
            "Epoch 17/30\n",
            " - 21s - loss: 0.5576 - accuracy: 0.8152 - val_loss: 1.1073 - val_accuracy: 0.7155\n",
            "Epoch 18/30\n",
            " - 21s - loss: 0.5467 - accuracy: 0.8231 - val_loss: 0.8369 - val_accuracy: 0.7478\n",
            "Epoch 19/30\n",
            " - 21s - loss: 0.4946 - accuracy: 0.8368 - val_loss: 0.8429 - val_accuracy: 0.7742\n",
            "Epoch 20/30\n",
            " - 21s - loss: 0.4491 - accuracy: 0.8462 - val_loss: 0.8553 - val_accuracy: 0.7683\n",
            "Epoch 21/30\n",
            " - 21s - loss: 0.4418 - accuracy: 0.8524 - val_loss: 0.8855 - val_accuracy: 0.7566\n",
            "Epoch 22/30\n",
            " - 21s - loss: 0.4213 - accuracy: 0.8615 - val_loss: 0.8432 - val_accuracy: 0.7771\n",
            "Epoch 23/30\n",
            " - 21s - loss: 0.3877 - accuracy: 0.8697 - val_loss: 0.8885 - val_accuracy: 0.7830\n",
            "Epoch 24/30\n",
            " - 21s - loss: 0.3798 - accuracy: 0.8710 - val_loss: 0.9139 - val_accuracy: 0.7625\n",
            "Epoch 25/30\n",
            " - 21s - loss: 0.3729 - accuracy: 0.8732 - val_loss: 0.9367 - val_accuracy: 0.7742\n",
            "Epoch 26/30\n",
            " - 21s - loss: 0.3461 - accuracy: 0.8798 - val_loss: 1.0060 - val_accuracy: 0.7654\n",
            "Epoch 27/30\n",
            " - 21s - loss: 0.3461 - accuracy: 0.8843 - val_loss: 0.8704 - val_accuracy: 0.7419\n",
            "Epoch 28/30\n",
            " - 21s - loss: 0.3125 - accuracy: 0.8892 - val_loss: 1.2005 - val_accuracy: 0.7507\n",
            "Epoch 29/30\n",
            " - 21s - loss: 0.3066 - accuracy: 0.8902 - val_loss: 0.9653 - val_accuracy: 0.7713\n",
            "Epoch 30/30\n",
            " - 21s - loss: 0.3092 - accuracy: 0.9000 - val_loss: 0.9452 - val_accuracy: 0.7859\n"
          ],
          "name": "stdout"
        }
      ]
    },
    {
      "cell_type": "code",
      "metadata": {
        "id": "ypQZ39alQ8kV",
        "colab_type": "code",
        "colab": {
          "base_uri": "https://localhost:8080/",
          "height": 374
        },
        "outputId": "16b5972f-1bbc-45e1-cc33-8ef48d9acf15"
      },
      "source": [
        "\n",
        "from sklearn.metrics import classification_report\n",
        "from sklearn.metrics import confusion_matrix\n",
        "from sklearn.metrics import classification_report \n",
        "from sklearn.metrics import accuracy_score\n",
        "\n",
        "y_pred = model.predict(x_test)\n",
        "results = confusion_matrix(y_test,y_pred)\n",
        "print ('Confusion Matrix :')\n",
        "print(results) \n",
        "sns.heatmap(results,center=True)\n",
        "plt.show()\n",
        "print ('Accuracy Score :',accuracy_score(y_test, y_pred.round(), normalize=False))\n",
        "print ('Report : ')\n",
        "print (classification_report(y_test, y_pred))"
      ],
      "execution_count": 37,
      "outputs": [
        {
          "output_type": "error",
          "ename": "ValueError",
          "evalue": "ignored",
          "traceback": [
            "\u001b[0;31m---------------------------------------------------------------------------\u001b[0m",
            "\u001b[0;31mValueError\u001b[0m                                Traceback (most recent call last)",
            "\u001b[0;32m<ipython-input-37-e9f844409149>\u001b[0m in \u001b[0;36m<module>\u001b[0;34m()\u001b[0m\n\u001b[1;32m      6\u001b[0m \u001b[0;34m\u001b[0m\u001b[0m\n\u001b[1;32m      7\u001b[0m \u001b[0my_pred\u001b[0m \u001b[0;34m=\u001b[0m \u001b[0mmodel\u001b[0m\u001b[0;34m.\u001b[0m\u001b[0mpredict\u001b[0m\u001b[0;34m(\u001b[0m\u001b[0mx_test\u001b[0m\u001b[0;34m)\u001b[0m\u001b[0;34m\u001b[0m\u001b[0;34m\u001b[0m\u001b[0m\n\u001b[0;32m----> 8\u001b[0;31m \u001b[0mresults\u001b[0m \u001b[0;34m=\u001b[0m \u001b[0mconfusion_matrix\u001b[0m\u001b[0;34m(\u001b[0m\u001b[0my_test\u001b[0m\u001b[0;34m,\u001b[0m\u001b[0my_pred\u001b[0m\u001b[0;34m)\u001b[0m\u001b[0;34m\u001b[0m\u001b[0;34m\u001b[0m\u001b[0m\n\u001b[0m\u001b[1;32m      9\u001b[0m \u001b[0mprint\u001b[0m \u001b[0;34m(\u001b[0m\u001b[0;34m'Confusion Matrix :'\u001b[0m\u001b[0;34m)\u001b[0m\u001b[0;34m\u001b[0m\u001b[0;34m\u001b[0m\u001b[0m\n\u001b[1;32m     10\u001b[0m \u001b[0mprint\u001b[0m\u001b[0;34m(\u001b[0m\u001b[0mresults\u001b[0m\u001b[0;34m)\u001b[0m\u001b[0;34m\u001b[0m\u001b[0;34m\u001b[0m\u001b[0m\n",
            "\u001b[0;32m/usr/local/lib/python3.6/dist-packages/sklearn/metrics/_classification.py\u001b[0m in \u001b[0;36mconfusion_matrix\u001b[0;34m(y_true, y_pred, labels, sample_weight, normalize)\u001b[0m\n\u001b[1;32m    266\u001b[0m \u001b[0;34m\u001b[0m\u001b[0m\n\u001b[1;32m    267\u001b[0m     \"\"\"\n\u001b[0;32m--> 268\u001b[0;31m     \u001b[0my_type\u001b[0m\u001b[0;34m,\u001b[0m \u001b[0my_true\u001b[0m\u001b[0;34m,\u001b[0m \u001b[0my_pred\u001b[0m \u001b[0;34m=\u001b[0m \u001b[0m_check_targets\u001b[0m\u001b[0;34m(\u001b[0m\u001b[0my_true\u001b[0m\u001b[0;34m,\u001b[0m \u001b[0my_pred\u001b[0m\u001b[0;34m)\u001b[0m\u001b[0;34m\u001b[0m\u001b[0;34m\u001b[0m\u001b[0m\n\u001b[0m\u001b[1;32m    269\u001b[0m     \u001b[0;32mif\u001b[0m \u001b[0my_type\u001b[0m \u001b[0;32mnot\u001b[0m \u001b[0;32min\u001b[0m \u001b[0;34m(\u001b[0m\u001b[0;34m\"binary\"\u001b[0m\u001b[0;34m,\u001b[0m \u001b[0;34m\"multiclass\"\u001b[0m\u001b[0;34m)\u001b[0m\u001b[0;34m:\u001b[0m\u001b[0;34m\u001b[0m\u001b[0;34m\u001b[0m\u001b[0m\n\u001b[1;32m    270\u001b[0m         \u001b[0;32mraise\u001b[0m \u001b[0mValueError\u001b[0m\u001b[0;34m(\u001b[0m\u001b[0;34m\"%s is not supported\"\u001b[0m \u001b[0;34m%\u001b[0m \u001b[0my_type\u001b[0m\u001b[0;34m)\u001b[0m\u001b[0;34m\u001b[0m\u001b[0;34m\u001b[0m\u001b[0m\n",
            "\u001b[0;32m/usr/local/lib/python3.6/dist-packages/sklearn/metrics/_classification.py\u001b[0m in \u001b[0;36m_check_targets\u001b[0;34m(y_true, y_pred)\u001b[0m\n\u001b[1;32m     88\u001b[0m     \u001b[0;32mif\u001b[0m \u001b[0mlen\u001b[0m\u001b[0;34m(\u001b[0m\u001b[0my_type\u001b[0m\u001b[0;34m)\u001b[0m \u001b[0;34m>\u001b[0m \u001b[0;36m1\u001b[0m\u001b[0;34m:\u001b[0m\u001b[0;34m\u001b[0m\u001b[0;34m\u001b[0m\u001b[0m\n\u001b[1;32m     89\u001b[0m         raise ValueError(\"Classification metrics can't handle a mix of {0} \"\n\u001b[0;32m---> 90\u001b[0;31m                          \"and {1} targets\".format(type_true, type_pred))\n\u001b[0m\u001b[1;32m     91\u001b[0m \u001b[0;34m\u001b[0m\u001b[0m\n\u001b[1;32m     92\u001b[0m     \u001b[0;31m# We can't have more than one value on y_type => The set is no more needed\u001b[0m\u001b[0;34m\u001b[0m\u001b[0;34m\u001b[0m\u001b[0;34m\u001b[0m\u001b[0m\n",
            "\u001b[0;31mValueError\u001b[0m: Classification metrics can't handle a mix of multilabel-indicator and continuous-multioutput targets"
          ]
        }
      ]
    }
  ]
}