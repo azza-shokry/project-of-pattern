{
 "cells": [
  {
   "cell_type": "code",
   "execution_count": 1,
   "metadata": {},
   "outputs": [],
   "source": [
    "import numpy as np\n",
    "import pandas as pd\n",
    "import matplotlib.pyplot as plt \n",
    "import os \n",
    "import cv2"
   ]
  },
  {
   "cell_type": "code",
   "execution_count": 2,
   "metadata": {},
   "outputs": [],
   "source": [
    "DATADIR = \"E:\\\\sasa\\\\English\\\\Hnd\\\\Img\\\\\"\n",
    "CLASSES = ['0', '1', '2', '3', '4',\n",
    "               '5', '6', '7', '8', '9',\n",
    "               'A', 'B', 'C', 'D', 'E', 'F', 'G',\n",
    "               'H', 'I', 'J', 'K', 'L', 'M', 'N',\n",
    "               'O', 'P', 'Q', 'R', 'S', 'T', 'U',\n",
    "               'V', 'W', 'X', 'Y', 'Z', 'as', 'bs', \n",
    "               'cs', 'ds', 'es', 'fs', 'gs', 'hs', 'is', \n",
    "               'js', 'ks', 'ls', 'ms', 'ns', 'os', 'ps',\n",
    "               'qs', 'rs', 'ss', 'ts', 'us', 'vs', 'ws', \n",
    "               'xs', 'ys', 'zs']\n",
    "training_data = []\n",
    "def create_training_data():\n",
    "    for Class in CLASSES:\n",
    "        path=os.path.join(DATADIR,Class) \n",
    "        class_num = CLASSES.index(Class)\n",
    "        for img in os.listdir(path):\n",
    "            try:\n",
    "                img_array = cv2.imread(os.path.join(path,img), cv2.IMREAD_GRAYSCALE)\n",
    "                new_array = cv2.resize(img_array,(28,28))\n",
    "                training_data.append([new_array,class_num])\n",
    "            except Exception as e :\n",
    "                pass \n",
    "create_training_data()\n"
   ]
  },
  {
   "cell_type": "code",
   "execution_count": 3,
   "metadata": {},
   "outputs": [
    {
     "name": "stdout",
     "output_type": "stream",
     "text": [
      "3410\n"
     ]
    }
   ],
   "source": [
    "print(len(training_data))"
   ]
  },
  {
   "cell_type": "code",
   "execution_count": 4,
   "metadata": {},
   "outputs": [],
   "source": [
    "DATADIR = \"E:\\\\sasa\\\\English\\\\Hnd\\\\Img\\\\\"\n",
    "CLASSES = ['0', '1', '2', '3', '4',\n",
    "               '5', '6', '7', '8', '9',\n",
    "               'A', 'B', 'C', 'D', 'E', 'F', 'G',\n",
    "               'H', 'I', 'J', 'K', 'L', 'M', 'N',\n",
    "               'O', 'P', 'Q', 'R', 'S', 'T', 'U',\n",
    "               'V', 'W', 'X', 'Y', 'Z', 'as', 'bs', \n",
    "               'cs', 'ds', 'es', 'fs', 'gs', 'hs', 'is', \n",
    "               'js', 'ks', 'ls', 'ms', 'ns', 'os', 'ps',\n",
    "               'qs', 'rs', 'ss', 'ts', 'us', 'vs', 'ws', \n",
    "               'xs', 'ys', 'zs']\n",
    "testing_data = []\n",
    "def create_testing_data():\n",
    "    for Class in CLASSES:\n",
    "        path=os.path.join(DATADIR,Class) \n",
    "        class_num = CLASSES.index(Class)\n",
    "        for img in os.listdir(path):\n",
    "            try:\n",
    "                img_array = cv2.imread(os.path.join(path,img), cv2.IMREAD_GRAYSCALE)\n",
    "                new_array = cv2.resize(img_array,(28,28))\n",
    "                testing_data.append([new_array,class_num])\n",
    "            except Exception as e :\n",
    "                pass \n",
    "create_testing_data()"
   ]
  },
  {
   "cell_type": "code",
   "execution_count": 5,
   "metadata": {},
   "outputs": [],
   "source": [
    "Xtr=[]\n",
    "ytr=[]\n",
    "Xts=[]\n",
    "yts=[]\n",
    "for features , label in training_data :\n",
    "    Xtr.append(features)\n",
    "    ytr.append(label)\n",
    "for features , label in testing_data :\n",
    "    Xts.append(features)\n",
    "    yts.append(label)"
   ]
  },
  {
   "cell_type": "code",
   "execution_count": null,
   "metadata": {},
   "outputs": [],
   "source": [
    "Xtr[0]"
   ]
  },
  {
   "cell_type": "code",
   "execution_count": 321,
   "metadata": {},
   "outputs": [],
   "source": [
    "from sklearn.model_selection import train_test_split\n",
    "X_train, X_test_not_used , y_train, y_test_not_used = train_test_split(Xtr, ytr, test_size=0.00000001,random_state=44, shuffle =True)\n",
    "X_train_not_used, X_test , y_train_not_used, y_test = train_test_split(Xts, yts, test_size=26,random_state=44, shuffle =True)"
   ]
  },
  {
   "cell_type": "code",
   "execution_count": 322,
   "metadata": {},
   "outputs": [
    {
     "data": {
      "image/png": "[encoded data removed]",
      "text/plain": [
       "<Figure size 504x216 with 4 Axes>"
      ]
     },
     "metadata": {
      "needs_background": "light"
     },
     "output_type": "display_data"
    }
   ],
   "source": [
    "fig, axes = plt.subplots(1, 4, figsize=(7, 3))\n",
    "for img, label, ax in zip(X_train[:4], y_train[:4], axes):\n",
    "    ax.set_title(label)\n",
    "    ax.imshow(img)\n",
    "    ax.axis('off')\n",
    "plt.show()"
   ]
  },
  {
   "cell_type": "code",
   "execution_count": 323,
   "metadata": {},
   "outputs": [
    {
     "name": "stdout",
     "output_type": "stream",
     "text": [
      "train images: (3409, 28, 28)\n",
      "train images: (3409,)\n",
      "test images: (26, 28, 28)\n",
      "test images: (26,)\n"
     ]
    }
   ],
   "source": [
    "X_train = np.asarray(X_train)\n",
    "print(f'train images: {X_train.shape}')\n",
    "y_train = np.asarray(y_train)\n",
    "print(f'train images: {y_train.shape}')\n",
    "X_test= np.asarray(X_test)\n",
    "print(f'test images: {X_test.shape}')\n",
    "y_test= np.asarray(y_test)\n",
    "print(f'test images: {y_test.shape}')"
   ]
  },
  {
   "cell_type": "code",
   "execution_count": 326,
   "metadata": {},
   "outputs": [],
   "source": [
    "X_train = X_train.reshape(3409,28*28)/255.0\n",
    "X_test = X_test.reshape(26,28*28)/255.0"
   ]
  },
  {
   "cell_type": "code",
   "execution_count": 327,
   "metadata": {},
   "outputs": [
    {
     "data": {
      "text/plain": [
       "30"
      ]
     },
     "execution_count": 327,
     "metadata": {},
     "output_type": "execute_result"
    }
   ],
   "source": [
    "y_train[0]"
   ]
  },
  {
   "cell_type": "code",
   "execution_count": 328,
   "metadata": {},
   "outputs": [],
   "source": [
    "import tensorflow.compat.v1 as tf\n",
    "tf.disable_v2_behavior()"
   ]
  },
  {
   "cell_type": "code",
   "execution_count": 329,
   "metadata": {},
   "outputs": [],
   "source": [
    "with tf.Session() as sess:\n",
    "    y_train = sess.run(tf.one_hot(y_train , 62))# 62 is the number of classes \n",
    "    y_test = sess.run(tf.one_hot(y_test, 62))"
   ]
  },
  {
   "cell_type": "code",
   "execution_count": 340,
   "metadata": {},
   "outputs": [
    {
     "name": "stdout",
     "output_type": "stream",
     "text": [
      "170\n"
     ]
    }
   ],
   "source": [
    "learning_rate = 0.9\n",
    "epochs = 20\n",
    "batch_size = 20\n",
    "batches= int(X_train.shape[0]/batch_size)\n",
    "print(batches)"
   ]
  },
  {
   "cell_type": "code",
   "execution_count": 336,
   "metadata": {},
   "outputs": [],
   "source": [
    "x_ = tf.placeholder(tf.float32 , shape=[None,784])\n",
    "y_ = tf.placeholder(tf.float32 , shape=[None,62])\n",
    "w = tf.Variable(tf.zeros([784,62],tf.float32))\n",
    "b = tf.Variable(tf.zeros([62],tf.float32))"
   ]
  },
  {
   "cell_type": "code",
   "execution_count": 341,
   "metadata": {},
   "outputs": [
    {
     "name": "stdout",
     "output_type": "stream",
     "text": [
      "Tensor(\"Softmax_32:0\", shape=(?, 62), dtype=float32)\n"
     ]
    }
   ],
   "source": [
    "pred = tf.nn.softmax(tf.matmul(x_,w) +b)\n",
    "print(pred)\n",
    "cost = tf.reduce_mean(-tf.reduce_sum(y_*tf.log(pred),reduction_indices=[1]))\n"
   ]
  },
  {
   "cell_type": "code",
   "execution_count": 1,
   "metadata": {},
   "outputs": [
    {
     "ename": "NameError",
     "evalue": "name 'tf' is not defined",
     "output_type": "error",
     "traceback": [
      "\u001b[1;31m---------------------------------------------------------------------------\u001b[0m",
      "\u001b[1;31mNameError\u001b[0m                                 Traceback (most recent call last)",
      "\u001b[1;32m<ipython-input-1-492a1de7244b>\u001b[0m in \u001b[0;36m<module>\u001b[1;34m\u001b[0m\n\u001b[1;32m----> 1\u001b[1;33m \u001b[0moptimizer\u001b[0m \u001b[1;33m=\u001b[0m \u001b[0mtf\u001b[0m\u001b[1;33m.\u001b[0m\u001b[0mtrain\u001b[0m\u001b[1;33m.\u001b[0m\u001b[0mGradientDescentOptimizer\u001b[0m\u001b[1;33m(\u001b[0m\u001b[0mlearning_rate\u001b[0m\u001b[1;33m)\u001b[0m\u001b[1;33m.\u001b[0m\u001b[0mminimize\u001b[0m\u001b[1;33m(\u001b[0m\u001b[0mcost\u001b[0m\u001b[1;33m)\u001b[0m\u001b[1;33m\u001b[0m\u001b[1;33m\u001b[0m\u001b[0m\n\u001b[0m",
      "\u001b[1;31mNameError\u001b[0m: name 'tf' is not defined"
     ]
    }
   ],
   "source": [
    "optimizer = tf.train.GradientDescentOptimizer(learning_rate).minimize(cost)"
   ]
  },
  {
   "cell_type": "code",
   "execution_count": 1,
   "metadata": {},
   "outputs": [
    {
     "ename": "NameError",
     "evalue": "name 'tf' is not defined",
     "output_type": "error",
     "traceback": [
      "\u001b[1;31m---------------------------------------------------------------------------\u001b[0m",
      "\u001b[1;31mNameError\u001b[0m                                 Traceback (most recent call last)",
      "\u001b[1;32m<ipython-input-1-b045df8c2fac>\u001b[0m in \u001b[0;36m<module>\u001b[1;34m\u001b[0m\n\u001b[1;32m----> 1\u001b[1;33m \u001b[1;32mwith\u001b[0m \u001b[0mtf\u001b[0m\u001b[1;33m.\u001b[0m\u001b[0mSession\u001b[0m\u001b[1;33m(\u001b[0m\u001b[1;33m)\u001b[0m \u001b[1;32mas\u001b[0m \u001b[0msesh\u001b[0m\u001b[1;33m:\u001b[0m\u001b[1;33m\u001b[0m\u001b[1;33m\u001b[0m\u001b[0m\n\u001b[0m\u001b[0;32m      2\u001b[0m     \u001b[0msesh\u001b[0m\u001b[1;33m.\u001b[0m\u001b[0mrun\u001b[0m\u001b[1;33m(\u001b[0m\u001b[0mtf\u001b[0m\u001b[1;33m.\u001b[0m\u001b[0mglobal_variables_initializer\u001b[0m\u001b[1;33m(\u001b[0m\u001b[1;33m)\u001b[0m\u001b[1;33m)\u001b[0m\u001b[1;33m\u001b[0m\u001b[1;33m\u001b[0m\u001b[0m\n\u001b[0;32m      3\u001b[0m \u001b[1;33m\u001b[0m\u001b[0m\n\u001b[0;32m      4\u001b[0m     \u001b[1;32mfor\u001b[0m \u001b[0mepoch\u001b[0m \u001b[1;32min\u001b[0m \u001b[0mrange\u001b[0m\u001b[1;33m(\u001b[0m\u001b[0mepochs\u001b[0m\u001b[1;33m)\u001b[0m\u001b[1;33m:\u001b[0m\u001b[1;33m\u001b[0m\u001b[1;33m\u001b[0m\u001b[0m\n\u001b[0;32m      5\u001b[0m         \u001b[1;32mfor\u001b[0m \u001b[0mi\u001b[0m \u001b[1;32min\u001b[0m \u001b[0mrange\u001b[0m\u001b[1;33m(\u001b[0m\u001b[0mbatches\u001b[0m\u001b[1;33m)\u001b[0m\u001b[1;33m:\u001b[0m\u001b[1;33m\u001b[0m\u001b[1;33m\u001b[0m\u001b[0m\n",
      "\u001b[1;31mNameError\u001b[0m: name 'tf' is not defined"
     ]
    }
   ],
   "source": [
    "with tf.Session() as sesh:\n",
    "    sesh.run(tf.global_variables_initializer())\n",
    "    \n",
    "    for epoch in range(epochs):\n",
    "        for i in range(batches):\n",
    "            offset = i * epoch\n",
    "            x = X_train[offset: offset + batch_size]\n",
    "            y = y_train[offset: offset + batch_size]\n",
    "            sesh.run(optimizer, feed_dict={x_: x, y_:y})\n",
    "            c = sesh.run(cost, feed_dict={x_:x, y_:y})\n",
    "        print(f'epoch:{epoch:2d} cost={c:.4f}')\n",
    "                \n",
    "    correct_pred = tf.equal(tf.argmax(pred, 1), tf.argmax(y_, 1))\n",
    "    accuracy = tf.reduce_mean(tf.cast(correct_pred, tf.float32))\n",
    "    acc = accuracy.eval({x_: X_test, y_: y_test})\n",
    "    print(f'Accuracy: {acc * 100:.2f}%')\n",
    "    \n",
    "    fig, axes = plt.subplots(1, 10, figsize=(8, 3))\n",
    "    for img, ax in zip(X_test[:10], axes):\n",
    "        guess = np.argmax(sesh.run(pred, feed_dict={x_: [img]}))\n",
    "        ax.set_title(guess)\n",
    "        ax.imshow(img.reshape((28, 28)))\n",
    "        ax.axis('off')"
   ]
  },
  {
   "cell_type": "code",
   "execution_count": 159,
   "metadata": {},
   "outputs": [],
   "source": [
    "n = [['ahmed',0],['adel',1]]\n",
    "m = "
   ]
  },
  {
   "cell_type": "code",
   "execution_count": null,
   "metadata": {},
   "outputs": [],
   "source": []
  }
 ],
 "metadata": {
  "kernelspec": {
   "display_name": "Python 3",
   "language": "python",
   "name": "python3"
  },
  "language_info": {
   "codemirror_mode": {
    "name": "ipython",
    "version": 3
   },
   "file_extension": ".py",
   "mimetype": "text/x-python",
   "name": "python",
   "nbconvert_exporter": "python",
   "pygments_lexer": "ipython3",
   "version": "3.7.4"
  }
 },
 "nbformat": 4,
 "nbformat_minor": 2
}
