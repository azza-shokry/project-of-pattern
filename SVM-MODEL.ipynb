{
 "cells": [
  {
   "cell_type": "code",
   "execution_count": 5,
   "metadata": {},
   "outputs": [],
   "source": [
    "import matplotlib.pyplot as plt\n",
    "import pandas as pd \n",
    "import numpy as np\n",
    "import os \n",
    "import glob2 as gb\n",
    "from tensorflow.python.framework import ops\n",
    "ops.reset_default_graph()"
   ]
  },
  {
   "cell_type": "code",
   "execution_count": 2,
   "metadata": {},
   "outputs": [],
   "source": [
    "train_path = 'E:\\\\sasa\\\\English\\\\Hnd\\\\Img\\\\'"
   ]
  },
  {
   "cell_type": "code",
   "execution_count": 3,
   "metadata": {},
   "outputs": [],
   "source": [
    "code = {'0':0, '1':1, '2':2, '3':3, '4':4,\n",
    "               '5':5, '6':6, '7':7, '8':8, '9':9,\n",
    "               'A':10, 'B':11, 'C':12, 'D':13, 'E':14, 'F':15, 'G':16,\n",
    "               'H':17, 'I':18, 'J':19, 'K':20, 'L':21, 'M':22, 'N':23,\n",
    "               'O':24, 'P':25, 'Q':26, 'R':27, 'S':28, 'T':29, 'U':30,\n",
    "               'V':31, 'W':32, 'X':33, 'Y':34, 'Z':35, 'as':36, 'bs':37, \n",
    "               'cs':38, 'ds':39, 'es':40, 'fs':41, 'gs':42, 'hs':43, 'is':44, \n",
    "               'js':45, 'ks':46, 'ls':47, 'ms':48, 'ns':49, 'os':50, 'ps':51,\n",
    "               'qs':52, 'rs':53, 'ss':54, 'ts':55, 'us':56, 'vs':57, 'ws':58, \n",
    "               'xs':59, 'ys':60, 'zs':61,}\n",
    "\n",
    "def getcode(n):\n",
    "    for x ,y in code.items():\n",
    "        if n==y :\n",
    "            return x"
   ]
  },
  {
   "cell_type": "code",
   "execution_count": 6,
   "metadata": {},
   "outputs": [],
   "source": [
    "import cv2\n",
    "# create x , y  \n",
    "X = []\n",
    "y = []\n",
    "\n",
    "for folder in os.listdir(train_path):\n",
    "    files = gb.glob(pathname=str(train_path) + folder + '/*png')\n",
    "    for file in files :\n",
    "        image = cv2.imread(file, cv2.IMREAD_GRAYSCALE)\n",
    "        image_array = cv2.resize(image,(28,28))\n",
    "        X.append(list(image_array))\n",
    "        y.append(code[folder])\n"
   ]
  },
  {
   "cell_type": "code",
   "execution_count": 8,
   "metadata": {},
   "outputs": [],
   "source": [
    "from sklearn.model_selection import train_test_split\n",
    "X_train, X_test , y_train, y_test= train_test_split(X, y, test_size=0.20, random_state=44)"
   ]
  },
  {
   "cell_type": "code",
   "execution_count": 9,
   "metadata": {},
   "outputs": [
    {
     "data": {
      "image/png": "[encoded data removed]",
      "text/plain": [
       "<Figure size 504x216 with 4 Axes>"
      ]
     },
     "metadata": {
      "needs_background": "light"
     },
     "output_type": "display_data"
    }
   ],
   "source": [
    "fig, axes = plt.subplots(1, 4, figsize=(7, 3))\n",
    "for img, label, ax in zip(X_train[:4], y_train[:4], axes):\n",
    "    ax.set_title(label)\n",
    "    ax.imshow(img)\n",
    "    ax.axis('off')\n",
    "plt.show()"
   ]
  },
  {
   "cell_type": "code",
   "execution_count": 10,
   "metadata": {
    "scrolled": true
   },
   "outputs": [
    {
     "name": "stdout",
     "output_type": "stream",
     "text": [
      "train images: (2728, 28, 28)\n",
      "train labels: (2728,)\n",
      "test images: (682, 28, 28)\n",
      "test labels: (682,)\n"
     ]
    }
   ],
   "source": [
    "X_train = np.asarray(X_train)\n",
    "print(f'train images: {X_train.shape}')\n",
    "y_train = np.asarray(y_train)\n",
    "print(f'train labels: {y_train.shape}')\n",
    "X_test= np.asarray(X_test)\n",
    "print(f'test images: {X_test.shape}')\n",
    "y_test= np.asarray(y_test)\n",
    "print(f'test labels: {y_test.shape}')"
   ]
  },
  {
   "cell_type": "code",
   "execution_count": 11,
   "metadata": {},
   "outputs": [],
   "source": [
    "X_train = X_train.reshape(2728, 28*28)/255\n",
    "X_test = X_test.reshape(682,28*28)/255"
   ]
  },
  {
   "cell_type": "code",
   "execution_count": 12,
   "metadata": {},
   "outputs": [
    {
     "data": {
      "text/plain": [
       "array([16, 21, 46, 19])"
      ]
     },
     "execution_count": 12,
     "metadata": {},
     "output_type": "execute_result"
    }
   ],
   "source": [
    "y_train[:4]"
   ]
  },
  {
   "cell_type": "code",
   "execution_count": 13,
   "metadata": {},
   "outputs": [
    {
     "name": "stdout",
     "output_type": "stream",
     "text": [
      "WARNING:tensorflow:From C:\\Users\\Abdo Shahat\\AppData\\Local\\Continuum\\anaconda3\\lib\\site-packages\\tensorflow_core\\python\\compat\\v2_compat.py:88: disable_resource_variables (from tensorflow.python.ops.variable_scope) is deprecated and will be removed in a future version.\n",
      "Instructions for updating:\n",
      "non-resource variables are not supported in the long term\n"
     ]
    }
   ],
   "source": [
    "import tensorflow.compat.v1 as tf\n",
    "tf.disable_v2_behavior()\n",
    "with tf.Session() as sess:\n",
    "        y_train = sess.run(tf.one_hot(y_train ,62))\n",
    "        y_test = sess.run(tf.one_hot(y_test,62))"
   ]
  },
  {
   "cell_type": "code",
   "execution_count": 14,
   "metadata": {},
   "outputs": [
    {
     "data": {
      "text/plain": [
       "array([[0., 0., 0., 0., 0., 0., 0., 0., 0., 0., 0., 0., 0., 0., 0., 0.,\n",
       "        1., 0., 0., 0., 0., 0., 0., 0., 0., 0., 0., 0., 0., 0., 0., 0.,\n",
       "        0., 0., 0., 0., 0., 0., 0., 0., 0., 0., 0., 0., 0., 0., 0., 0.,\n",
       "        0., 0., 0., 0., 0., 0., 0., 0., 0., 0., 0., 0., 0., 0.],\n",
       "       [0., 0., 0., 0., 0., 0., 0., 0., 0., 0., 0., 0., 0., 0., 0., 0.,\n",
       "        0., 0., 0., 0., 0., 1., 0., 0., 0., 0., 0., 0., 0., 0., 0., 0.,\n",
       "        0., 0., 0., 0., 0., 0., 0., 0., 0., 0., 0., 0., 0., 0., 0., 0.,\n",
       "        0., 0., 0., 0., 0., 0., 0., 0., 0., 0., 0., 0., 0., 0.],\n",
       "       [0., 0., 0., 0., 0., 0., 0., 0., 0., 0., 0., 0., 0., 0., 0., 0.,\n",
       "        0., 0., 0., 0., 0., 0., 0., 0., 0., 0., 0., 0., 0., 0., 0., 0.,\n",
       "        0., 0., 0., 0., 0., 0., 0., 0., 0., 0., 0., 0., 0., 0., 1., 0.,\n",
       "        0., 0., 0., 0., 0., 0., 0., 0., 0., 0., 0., 0., 0., 0.],\n",
       "       [0., 0., 0., 0., 0., 0., 0., 0., 0., 0., 0., 0., 0., 0., 0., 0.,\n",
       "        0., 0., 0., 1., 0., 0., 0., 0., 0., 0., 0., 0., 0., 0., 0., 0.,\n",
       "        0., 0., 0., 0., 0., 0., 0., 0., 0., 0., 0., 0., 0., 0., 0., 0.,\n",
       "        0., 0., 0., 0., 0., 0., 0., 0., 0., 0., 0., 0., 0., 0.]],\n",
       "      dtype=float32)"
      ]
     },
     "execution_count": 14,
     "metadata": {},
     "output_type": "execute_result"
    }
   ],
   "source": [
    "y_train[:4]"
   ]
  },
  {
   "cell_type": "code",
   "execution_count": 30,
   "metadata": {},
   "outputs": [],
   "source": [
    "learning_rate = 0.1\n",
    "epochs = 20\n",
    "batch_size = 20  \n",
    "batches = int(X_train.shape[0] / batch_size)"
   ]
  },
  {
   "cell_type": "code",
   "execution_count": 31,
   "metadata": {},
   "outputs": [],
   "source": [
    "X = tf.placeholder(tf.float32, [None, 784])\n",
    "Y = tf.placeholder(tf.float32, [None, 62])\n",
    "W = tf.Variable(tf.zeros([784,62]))\n",
    "B = tf.Variable(tf.zeros(62))"
   ]
  },
  {
   "cell_type": "code",
   "execution_count": 32,
   "metadata": {},
   "outputs": [],
   "source": [
    "model_output = tf.matmul(X, W) + B"
   ]
  },
  {
   "cell_type": "code",
   "execution_count": 33,
   "metadata": {},
   "outputs": [],
   "source": [
    "alpha = tf.constant([0.01])\n",
    "delta = tf.constant([1.0], tf.float32)\n",
    "\n",
    "regulation_term = alpha * tf.nn.l2_loss(W) \n",
    "\n",
    "S_truelabel = tf.reduce_sum(tf.multiply(Y,model_output),axis=1 ,keepdims=True)\n",
    "loss = tf.reduce_mean(tf.reduce_sum(tf.maximum(0.0, model_output - S_truelabel + delta), 1) - delta )\n",
    "loss += regulation_term"
   ]
  },
  {
   "cell_type": "code",
   "execution_count": 34,
   "metadata": {},
   "outputs": [],
   "source": [
    "optimizer = tf.train.GradientDescentOptimizer(learning_rate).minimize(loss)"
   ]
  },
  {
   "cell_type": "code",
   "execution_count": 35,
   "metadata": {},
   "outputs": [],
   "source": [
    "def accuracy(predictions, labels):\n",
    "       return (100.0 * np.sum(np.argmax(predictions, 1) == np.argmax(labels, 1))\n",
    "            / predictions.shape[0])"
   ]
  },
  {
   "cell_type": "code",
   "execution_count": 36,
   "metadata": {
    "scrolled": true
   },
   "outputs": [
    {
     "name": "stdout",
     "output_type": "stream",
     "text": [
      "epoch:0 loss=[315.6193] Acc=0.0\n",
      "epoch:1 loss=[164.9148] Acc=5.0\n",
      "epoch:2 loss=[217.6145] Acc=0.0\n",
      "epoch:3 loss=[120.11839] Acc=20.0\n",
      "epoch:4 loss=[59.816586] Acc=20.0\n",
      "epoch:5 loss=[125.246735] Acc=5.0\n",
      "epoch:6 loss=[139.87167] Acc=10.0\n",
      "epoch:7 loss=[142.5702] Acc=10.0\n",
      "epoch:8 loss=[123.17468] Acc=0.0\n",
      "epoch:9 loss=[195.48524] Acc=5.0\n",
      "epoch:10 loss=[139.19963] Acc=0.0\n",
      "epoch:11 loss=[81.7388] Acc=10.0\n",
      "epoch:12 loss=[118.66306] Acc=0.0\n",
      "epoch:13 loss=[109.748856] Acc=0.0\n",
      "epoch:14 loss=[99.12932] Acc=30.0\n",
      "epoch:15 loss=[187.32016] Acc=0.0\n",
      "epoch:16 loss=[227.64384] Acc=10.0\n",
      "epoch:17 loss=[242.18292] Acc=5.0\n",
      "epoch:18 loss=[127.73866] Acc=15.0\n",
      "epoch:19 loss=[133.68875] Acc=10.0\n",
      "Test Accuracy =  91.49560117302053\n"
     ]
    }
   ],
   "source": [
    "#Train the model\n",
    "with tf.Session() as sesh:\n",
    "        sesh.run(tf.global_variables_initializer())\n",
    "        \n",
    "        for epoch in range(epochs):\n",
    "            for i in range(batches):\n",
    "                offset = i * epoch\n",
    "                x = X_train[offset: offset + batch_size]\n",
    "                y = y_train[offset: offset + batch_size]\n",
    "                sesh.run(optimizer, feed_dict={X: X_test, Y:y_test})\n",
    "                c = sesh.run(loss, feed_dict={X:x, Y:y})\n",
    "            if epoch % 1 == 0 :\n",
    "                acc = accuracy(sesh.run(model_output,feed_dict={X: x, Y:y}), y)\n",
    "                print(f'epoch:{epoch} loss={c} Acc={acc}')\n",
    "                \n",
    "        # Test the model\n",
    "        print('Test Accuracy = ', accuracy(sesh.run(model_output,feed_dict={X: X_test, Y:y_test}),y_test)) \n",
    "        y_pred = (sesh.run(model_output,feed_dict={X: X_test}))"
   ]
  },
  {
   "cell_type": "code",
   "execution_count": 38,
   "metadata": {},
   "outputs": [],
   "source": [
    "from sklearn.metrics import classification_report\n",
    "from sklearn.metrics import confusion_matrix\n",
    "from sklearn.metrics import classification_report \n",
    "from sklearn.metrics import accuracy_score\n",
    "import seaborn as sns"
   ]
  },
  {
   "cell_type": "code",
   "execution_count": 40,
   "metadata": {},
   "outputs": [],
   "source": [
    "\n",
    "results = confusion_matrix(y_test,y_pred)"
   ]
  },
  {
   "cell_type": "code",
   "execution_count": 41,
   "metadata": {},
   "outputs": [
    {
     "name": "stdout",
     "output_type": "stream",
     "text": [
      "Confusion Matrix :\n",
      "[[ 6  0  0 ...  0  0  0]\n",
      " [ 0  5  0 ...  0  0  0]\n",
      " [ 0  0  7 ...  0  0  0]\n",
      " ...\n",
      " [ 0  0  0 ...  8  0  0]\n",
      " [ 0  0  0 ...  0 10  0]\n",
      " [ 0  0  0 ...  0  0 10]]\n"
     ]
    },
    {
     "data": {
      "image/png": "[encoded data removed]",
      "text/plain": [
       "<Figure size 432x288 with 2 Axes>"
      ]
     },
     "metadata": {
      "needs_background": "light"
     },
     "output_type": "display_data"
    },
    {
     "name": "stdout",
     "output_type": "stream",
     "text": [
      "Accuracy Score : 624\n",
      "Report : \n",
      "              precision    recall  f1-score   support\n",
      "\n",
      "           0       1.00      1.00      1.00         6\n",
      "           1       0.71      0.71      0.71         7\n",
      "           2       1.00      1.00      1.00         7\n",
      "           3       1.00      0.95      0.97        19\n",
      "           4       0.81      0.87      0.84        15\n",
      "           5       0.88      0.78      0.82         9\n",
      "           6       0.71      0.92      0.80        13\n",
      "           7       1.00      1.00      1.00         9\n",
      "           8       1.00      1.00      1.00         9\n",
      "           9       0.93      0.93      0.93        15\n",
      "          10       1.00      0.88      0.93         8\n",
      "          11       1.00      0.92      0.96        12\n",
      "          12       1.00      1.00      1.00         5\n",
      "          13       1.00      1.00      1.00         9\n",
      "          14       1.00      0.93      0.96        14\n",
      "          15       1.00      1.00      1.00        10\n",
      "          16       1.00      0.86      0.92        14\n",
      "          17       1.00      0.91      0.95        11\n",
      "          18       0.80      0.73      0.76        11\n",
      "          19       1.00      0.83      0.91         6\n",
      "          20       0.83      0.83      0.83        12\n",
      "          21       1.00      1.00      1.00         9\n",
      "          22       1.00      1.00      1.00        11\n",
      "          23       1.00      1.00      1.00        12\n",
      "          24       0.92      1.00      0.96        11\n",
      "          25       0.93      1.00      0.96        13\n",
      "          26       1.00      1.00      1.00        12\n",
      "          27       1.00      1.00      1.00        13\n",
      "          28       0.75      1.00      0.86        12\n",
      "          29       1.00      1.00      1.00        13\n",
      "          30       1.00      0.92      0.96        12\n",
      "          31       1.00      1.00      1.00         5\n",
      "          32       1.00      1.00      1.00        11\n",
      "          33       1.00      0.81      0.90        16\n",
      "          34       0.94      1.00      0.97        17\n",
      "          35       1.00      1.00      1.00         4\n",
      "          36       0.85      1.00      0.92        11\n",
      "          37       1.00      0.75      0.86         8\n",
      "          38       0.91      1.00      0.95        10\n",
      "          39       1.00      1.00      1.00         8\n",
      "          40       0.75      0.86      0.80        14\n",
      "          41       1.00      0.78      0.88         9\n",
      "          42       0.73      0.85      0.79        13\n",
      "          43       0.86      1.00      0.92        12\n",
      "          44       0.83      1.00      0.91        15\n",
      "          45       0.88      0.78      0.82         9\n",
      "          46       0.79      0.88      0.83        17\n",
      "          47       0.75      1.00      0.86         9\n",
      "          48       1.00      1.00      1.00         6\n",
      "          49       1.00      0.75      0.86        12\n",
      "          50       1.00      1.00      1.00         5\n",
      "          51       0.94      0.89      0.91        18\n",
      "          52       0.85      0.79      0.81        14\n",
      "          53       0.91      1.00      0.95        10\n",
      "          54       0.75      0.60      0.67        20\n",
      "          55       1.00      0.86      0.92         7\n",
      "          56       1.00      0.86      0.92         7\n",
      "          57       0.83      0.91      0.87        11\n",
      "          58       0.94      1.00      0.97        15\n",
      "          59       1.00      0.89      0.94         9\n",
      "          60       1.00      0.91      0.95        11\n",
      "          61       1.00      1.00      1.00        10\n",
      "\n",
      "    accuracy                           0.91       682\n",
      "   macro avg       0.93      0.92      0.92       682\n",
      "weighted avg       0.92      0.91      0.91       682\n",
      "\n"
     ]
    }
   ],
   "source": [
    "print ('Confusion Matrix :')\n",
    "print(results) \n",
    "sns.heatmap(results,center=True)\n",
    "plt.show()\n",
    "print ('Accuracy Score :',accuracy_score(y_test, y_pred.round(), normalize=False))\n",
    "print ('Report : ')\n",
    "print (classification_report(y_test, y_pred))"
   ]
  },
  {
   "cell_type": "code",
   "execution_count": null,
   "metadata": {},
   "outputs": [],
   "source": []
  }
 ],
 "metadata": {
  "kernelspec": {
   "display_name": "Python 3",
   "language": "python",
   "name": "python3"
  },
  "language_info": {
   "codemirror_mode": {
    "name": "ipython",
    "version": 3
   },
   "file_extension": ".py",
   "mimetype": "text/x-python",
   "name": "python",
   "nbconvert_exporter": "python",
   "pygments_lexer": "ipython3",
   "version": "3.7.4"
  }
 },
 "nbformat": 4,
 "nbformat_minor": 4
}
